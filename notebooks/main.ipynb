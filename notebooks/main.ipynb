{
 "cells": [
  {
   "cell_type": "markdown",
   "metadata": {},
   "source": [
    "# Libraries"
   ]
  },
  {
   "cell_type": "code",
   "execution_count": 1,
   "metadata": {},
   "outputs": [],
   "source": [
    "import pandas as pd\n",
    "import requests\n",
    "from shapely import wkt\n",
    "import numpy as np\n",
    "from concurrent.futures import ThreadPoolExecutor, as_completed\n"
   ]
  },
  {
   "cell_type": "markdown",
   "metadata": {},
   "source": [
    "# Helpful functions"
   ]
  },
  {
   "cell_type": "code",
   "execution_count": 2,
   "metadata": {},
   "outputs": [
    {
     "data": {
      "text/plain": [
       "' def calculate_area(wkt_polygon):\\n    polygon = wkt.loads(wkt_polygon)\\n    return polygon.area\\n     \\n      \\n    This function is deprecated'"
      ]
     },
     "execution_count": 2,
     "metadata": {},
     "output_type": "execute_result"
    }
   ],
   "source": [
    "\"\"\" def calculate_area(wkt_polygon):\n",
    "    polygon = wkt.loads(wkt_polygon)\n",
    "    return polygon.area\n",
    "     \n",
    "      \n",
    "    This function is deprecated\"\"\"\n"
   ]
  },
  {
   "cell_type": "code",
   "execution_count": 3,
   "metadata": {},
   "outputs": [],
   "source": [
    "API_KEY = '00f95217d3b04a0c9e1af341b4e1608a'\n",
    "\n",
    "def get_coordinates(county, name):\n",
    "    place_name = f\"{name}, {county} County, Florida\"\n",
    "    url = f\"https://api.opencagedata.com/geocode/v1/json?q={place_name}&key={API_KEY}\"\n",
    "    response = requests.get(url)\n",
    "    data = response.json()\n",
    "    if data['results']:\n",
    "        location = data['results'][0]['geometry']\n",
    "        return (location['lat'], location['lng'])\n",
    "    else:\n",
    "        return (None, None)"
   ]
  },
  {
   "cell_type": "markdown",
   "metadata": {},
   "source": [
    "This function is gonna get our coordenates using the OpenCage Geocoding API using a key provided by one of the data scientists"
   ]
  },
  {
   "cell_type": "code",
   "execution_count": 4,
   "metadata": {},
   "outputs": [],
   "source": [
    "def get_coordinates(county, name, state=\"Florida\"):\n",
    "    place_name = f\"{name}, {county} County, {state}\"\n",
    "    url = f\"https://api.opencagedata.com/geocode/v1/json?q={place_name}&key={API_KEY}\"\n",
    "    response = requests.get(url)\n",
    "    data = response.json()\n",
    "    if data['results']:\n",
    "        location = data['results'][0]['geometry']\n",
    "        return (location['lat'], location['lng'])\n",
    "    else:\n",
    "        return (None, None)"
   ]
  },
  {
   "cell_type": "markdown",
   "metadata": {},
   "source": [
    "# Loading the data"
   ]
  },
  {
   "cell_type": "code",
   "execution_count": 5,
   "metadata": {},
   "outputs": [
    {
     "data": {
      "text/html": [
       "<div>\n",
       "<style scoped>\n",
       "    .dataframe tbody tr th:only-of-type {\n",
       "        vertical-align: middle;\n",
       "    }\n",
       "\n",
       "    .dataframe tbody tr th {\n",
       "        vertical-align: top;\n",
       "    }\n",
       "\n",
       "    .dataframe thead th {\n",
       "        text-align: right;\n",
       "    }\n",
       "</style>\n",
       "<table border=\"1\" class=\"dataframe\">\n",
       "  <thead>\n",
       "    <tr style=\"text-align: right;\">\n",
       "      <th></th>\n",
       "      <th>WKT</th>\n",
       "      <th>COUNTY</th>\n",
       "      <th>NAME</th>\n",
       "      <th>created_user</th>\n",
       "      <th>created_date</th>\n",
       "      <th>last_edited_user</th>\n",
       "      <th>last_edited_date</th>\n",
       "    </tr>\n",
       "  </thead>\n",
       "  <tbody>\n",
       "    <tr>\n",
       "      <th>0</th>\n",
       "      <td>POLYGON Z ((-9698711.156 3546590.3287 0,-96987...</td>\n",
       "      <td>ESCAMBIA</td>\n",
       "      <td>UNSURVEYED</td>\n",
       "      <td>NaN</td>\n",
       "      <td>NaN</td>\n",
       "      <td>NaN</td>\n",
       "      <td>NaN</td>\n",
       "    </tr>\n",
       "    <tr>\n",
       "      <th>1</th>\n",
       "      <td>POLYGON Z ((-9061671.5384 3555608.0978 0,-9061...</td>\n",
       "      <td>DUVAL</td>\n",
       "      <td>HANNA PARK</td>\n",
       "      <td>NaN</td>\n",
       "      <td>NaN</td>\n",
       "      <td>NaN</td>\n",
       "      <td>NaN</td>\n",
       "    </tr>\n",
       "    <tr>\n",
       "      <th>2</th>\n",
       "      <td>POLYGON Z ((-9054509.0537 3514807.6314 0,-9054...</td>\n",
       "      <td>ST JOHNS</td>\n",
       "      <td>GUANA RIVER SP</td>\n",
       "      <td>NaN</td>\n",
       "      <td>NaN</td>\n",
       "      <td>NaN</td>\n",
       "      <td>NaN</td>\n",
       "    </tr>\n",
       "    <tr>\n",
       "      <th>3</th>\n",
       "      <td>POLYGON Z ((-9668169.2045 3552697.6667 0,-9668...</td>\n",
       "      <td>ESCAMBIA</td>\n",
       "      <td>UNSURVEYED</td>\n",
       "      <td>NaN</td>\n",
       "      <td>NaN</td>\n",
       "      <td>NaN</td>\n",
       "      <td>NaN</td>\n",
       "    </tr>\n",
       "    <tr>\n",
       "      <th>4</th>\n",
       "      <td>POLYGON Z ((-9597884.3653 3547578.4878 0,-9597...</td>\n",
       "      <td>WALTON</td>\n",
       "      <td>WALTON COUNTY BCHS</td>\n",
       "      <td>NaN</td>\n",
       "      <td>NaN</td>\n",
       "      <td>NaN</td>\n",
       "      <td>NaN</td>\n",
       "    </tr>\n",
       "    <tr>\n",
       "      <th>...</th>\n",
       "      <td>...</td>\n",
       "      <td>...</td>\n",
       "      <td>...</td>\n",
       "      <td>...</td>\n",
       "      <td>...</td>\n",
       "      <td>...</td>\n",
       "      <td>...</td>\n",
       "    </tr>\n",
       "    <tr>\n",
       "      <th>297</th>\n",
       "      <td>POLYGON Z ((-9039717.3304 2937286.6217 0,-9039...</td>\n",
       "      <td>MONROE</td>\n",
       "      <td>ENP (HIGHLAND BEAC</td>\n",
       "      <td>NaN</td>\n",
       "      <td>NaN</td>\n",
       "      <td>NaN</td>\n",
       "      <td>NaN</td>\n",
       "    </tr>\n",
       "    <tr>\n",
       "      <th>298</th>\n",
       "      <td>POLYGON Z ((-9039593.2653 2937286.6434 0,-9039...</td>\n",
       "      <td>MONROE</td>\n",
       "      <td>ENP (HIGHLAND BEAC</td>\n",
       "      <td>NaN</td>\n",
       "      <td>NaN</td>\n",
       "      <td>NaN</td>\n",
       "      <td>NaN</td>\n",
       "    </tr>\n",
       "    <tr>\n",
       "      <th>299</th>\n",
       "      <td>POLYGON Z ((-9015596.0256 2844170.7527 0,-9015...</td>\n",
       "      <td>MONROE</td>\n",
       "      <td>LITTLE CRAWL KEY</td>\n",
       "      <td>NaN</td>\n",
       "      <td>NaN</td>\n",
       "      <td>NaN</td>\n",
       "      <td>NaN</td>\n",
       "    </tr>\n",
       "    <tr>\n",
       "      <th>300</th>\n",
       "      <td>POLYGON Z ((-9016208.8296 2843020.5594 0,-9016...</td>\n",
       "      <td>MONROE</td>\n",
       "      <td>FAT DEER KEY</td>\n",
       "      <td>NaN</td>\n",
       "      <td>NaN</td>\n",
       "      <td>NaN</td>\n",
       "      <td>NaN</td>\n",
       "    </tr>\n",
       "    <tr>\n",
       "      <th>301</th>\n",
       "      <td>POLYGON Z ((-8927112.0082 2930542.2383 0,-8927...</td>\n",
       "      <td>DADE</td>\n",
       "      <td>BISCAYNE NATIONAL</td>\n",
       "      <td>NaN</td>\n",
       "      <td>NaN</td>\n",
       "      <td>NaN</td>\n",
       "      <td>NaN</td>\n",
       "    </tr>\n",
       "  </tbody>\n",
       "</table>\n",
       "<p>302 rows × 7 columns</p>\n",
       "</div>"
      ],
      "text/plain": [
       "                                                   WKT    COUNTY  \\\n",
       "0    POLYGON Z ((-9698711.156 3546590.3287 0,-96987...  ESCAMBIA   \n",
       "1    POLYGON Z ((-9061671.5384 3555608.0978 0,-9061...     DUVAL   \n",
       "2    POLYGON Z ((-9054509.0537 3514807.6314 0,-9054...  ST JOHNS   \n",
       "3    POLYGON Z ((-9668169.2045 3552697.6667 0,-9668...  ESCAMBIA   \n",
       "4    POLYGON Z ((-9597884.3653 3547578.4878 0,-9597...    WALTON   \n",
       "..                                                 ...       ...   \n",
       "297  POLYGON Z ((-9039717.3304 2937286.6217 0,-9039...    MONROE   \n",
       "298  POLYGON Z ((-9039593.2653 2937286.6434 0,-9039...    MONROE   \n",
       "299  POLYGON Z ((-9015596.0256 2844170.7527 0,-9015...    MONROE   \n",
       "300  POLYGON Z ((-9016208.8296 2843020.5594 0,-9016...    MONROE   \n",
       "301  POLYGON Z ((-8927112.0082 2930542.2383 0,-8927...      DADE   \n",
       "\n",
       "                   NAME  created_user  created_date  last_edited_user  \\\n",
       "0            UNSURVEYED           NaN           NaN               NaN   \n",
       "1            HANNA PARK           NaN           NaN               NaN   \n",
       "2        GUANA RIVER SP           NaN           NaN               NaN   \n",
       "3            UNSURVEYED           NaN           NaN               NaN   \n",
       "4    WALTON COUNTY BCHS           NaN           NaN               NaN   \n",
       "..                  ...           ...           ...               ...   \n",
       "297  ENP (HIGHLAND BEAC           NaN           NaN               NaN   \n",
       "298  ENP (HIGHLAND BEAC           NaN           NaN               NaN   \n",
       "299    LITTLE CRAWL KEY           NaN           NaN               NaN   \n",
       "300        FAT DEER KEY           NaN           NaN               NaN   \n",
       "301   BISCAYNE NATIONAL           NaN           NaN               NaN   \n",
       "\n",
       "     last_edited_date  \n",
       "0                 NaN  \n",
       "1                 NaN  \n",
       "2                 NaN  \n",
       "3                 NaN  \n",
       "4                 NaN  \n",
       "..                ...  \n",
       "297               NaN  \n",
       "298               NaN  \n",
       "299               NaN  \n",
       "300               NaN  \n",
       "301               NaN  \n",
       "\n",
       "[302 rows x 7 columns]"
      ]
     },
     "execution_count": 5,
     "metadata": {},
     "output_type": "execute_result"
    }
   ],
   "source": [
    "ds = pd.read_csv('florida-beach-names.csv')\n",
    "ds"
   ]
  },
  {
   "cell_type": "markdown",
   "metadata": {},
   "source": [
    "# Looking at the data"
   ]
  },
  {
   "cell_type": "code",
   "execution_count": 6,
   "metadata": {},
   "outputs": [
    {
     "name": "stdout",
     "output_type": "stream",
     "text": [
      "<class 'pandas.core.frame.DataFrame'>\n",
      "RangeIndex: 302 entries, 0 to 301\n",
      "Data columns (total 7 columns):\n",
      " #   Column            Non-Null Count  Dtype  \n",
      "---  ------            --------------  -----  \n",
      " 0   WKT               302 non-null    object \n",
      " 1   COUNTY            299 non-null    object \n",
      " 2   NAME              299 non-null    object \n",
      " 3   created_user      0 non-null      float64\n",
      " 4   created_date      0 non-null      float64\n",
      " 5   last_edited_user  0 non-null      float64\n",
      " 6   last_edited_date  0 non-null      float64\n",
      "dtypes: float64(4), object(3)\n",
      "memory usage: 16.6+ KB\n"
     ]
    }
   ],
   "source": [
    "ds.info()"
   ]
  },
  {
   "cell_type": "code",
   "execution_count": 7,
   "metadata": {},
   "outputs": [
    {
     "data": {
      "text/html": [
       "<div>\n",
       "<style scoped>\n",
       "    .dataframe tbody tr th:only-of-type {\n",
       "        vertical-align: middle;\n",
       "    }\n",
       "\n",
       "    .dataframe tbody tr th {\n",
       "        vertical-align: top;\n",
       "    }\n",
       "\n",
       "    .dataframe thead th {\n",
       "        text-align: right;\n",
       "    }\n",
       "</style>\n",
       "<table border=\"1\" class=\"dataframe\">\n",
       "  <thead>\n",
       "    <tr style=\"text-align: right;\">\n",
       "      <th></th>\n",
       "      <th>WKT</th>\n",
       "      <th>COUNTY</th>\n",
       "      <th>NAME</th>\n",
       "      <th>created_user</th>\n",
       "      <th>created_date</th>\n",
       "      <th>last_edited_user</th>\n",
       "      <th>last_edited_date</th>\n",
       "    </tr>\n",
       "  </thead>\n",
       "  <tbody>\n",
       "    <tr>\n",
       "      <th>27</th>\n",
       "      <td>POLYGON Z ((-8926217.4063 2933624.3263 0,-8926...</td>\n",
       "      <td>NaN</td>\n",
       "      <td>NaN</td>\n",
       "      <td>NaN</td>\n",
       "      <td>NaN</td>\n",
       "      <td>NaN</td>\n",
       "      <td>NaN</td>\n",
       "    </tr>\n",
       "    <tr>\n",
       "      <th>28</th>\n",
       "      <td>POLYGON Z ((-8927112.0082 2930542.2383 0,-8927...</td>\n",
       "      <td>NaN</td>\n",
       "      <td>NaN</td>\n",
       "      <td>NaN</td>\n",
       "      <td>NaN</td>\n",
       "      <td>NaN</td>\n",
       "      <td>NaN</td>\n",
       "    </tr>\n",
       "    <tr>\n",
       "      <th>153</th>\n",
       "      <td>POLYGON Z ((-9213069.3505 3199083.0432 0,-9212...</td>\n",
       "      <td>NaN</td>\n",
       "      <td>NaN</td>\n",
       "      <td>NaN</td>\n",
       "      <td>NaN</td>\n",
       "      <td>NaN</td>\n",
       "      <td>NaN</td>\n",
       "    </tr>\n",
       "  </tbody>\n",
       "</table>\n",
       "</div>"
      ],
      "text/plain": [
       "                                                   WKT COUNTY NAME  \\\n",
       "27   POLYGON Z ((-8926217.4063 2933624.3263 0,-8926...    NaN  NaN   \n",
       "28   POLYGON Z ((-8927112.0082 2930542.2383 0,-8927...    NaN  NaN   \n",
       "153  POLYGON Z ((-9213069.3505 3199083.0432 0,-9212...    NaN  NaN   \n",
       "\n",
       "     created_user  created_date  last_edited_user  last_edited_date  \n",
       "27            NaN           NaN               NaN               NaN  \n",
       "28            NaN           NaN               NaN               NaN  \n",
       "153           NaN           NaN               NaN               NaN  "
      ]
     },
     "execution_count": 7,
     "metadata": {},
     "output_type": "execute_result"
    }
   ],
   "source": [
    "ds[ds['NAME'].isna()]"
   ]
  },
  {
   "cell_type": "markdown",
   "metadata": {},
   "source": [
    "# Data preprocessing"
   ]
  },
  {
   "cell_type": "markdown",
   "metadata": {},
   "source": [
    "First thing thats gonna happen is we gonna get rid of the empty columns and the 3 null rows since non of that is gonna give any useful data"
   ]
  },
  {
   "cell_type": "code",
   "execution_count": 8,
   "metadata": {},
   "outputs": [],
   "source": [
    "# We make a copy of the data to work on that\n",
    "df = ds.copy()"
   ]
  },
  {
   "cell_type": "code",
   "execution_count": 9,
   "metadata": {},
   "outputs": [],
   "source": [
    "df.drop(columns=['created_user', 'created_date', 'last_edited_user', 'last_edited_date', 'WKT'], inplace = True)"
   ]
  },
  {
   "cell_type": "code",
   "execution_count": 10,
   "metadata": {},
   "outputs": [
    {
     "data": {
      "text/html": [
       "<div>\n",
       "<style scoped>\n",
       "    .dataframe tbody tr th:only-of-type {\n",
       "        vertical-align: middle;\n",
       "    }\n",
       "\n",
       "    .dataframe tbody tr th {\n",
       "        vertical-align: top;\n",
       "    }\n",
       "\n",
       "    .dataframe thead th {\n",
       "        text-align: right;\n",
       "    }\n",
       "</style>\n",
       "<table border=\"1\" class=\"dataframe\">\n",
       "  <thead>\n",
       "    <tr style=\"text-align: right;\">\n",
       "      <th></th>\n",
       "      <th>COUNTY</th>\n",
       "      <th>NAME</th>\n",
       "    </tr>\n",
       "  </thead>\n",
       "  <tbody>\n",
       "    <tr>\n",
       "      <th>0</th>\n",
       "      <td>ESCAMBIA</td>\n",
       "      <td>UNSURVEYED</td>\n",
       "    </tr>\n",
       "    <tr>\n",
       "      <th>1</th>\n",
       "      <td>DUVAL</td>\n",
       "      <td>HANNA PARK</td>\n",
       "    </tr>\n",
       "    <tr>\n",
       "      <th>2</th>\n",
       "      <td>ST JOHNS</td>\n",
       "      <td>GUANA RIVER SP</td>\n",
       "    </tr>\n",
       "    <tr>\n",
       "      <th>3</th>\n",
       "      <td>ESCAMBIA</td>\n",
       "      <td>UNSURVEYED</td>\n",
       "    </tr>\n",
       "    <tr>\n",
       "      <th>4</th>\n",
       "      <td>WALTON</td>\n",
       "      <td>WALTON COUNTY BCHS</td>\n",
       "    </tr>\n",
       "    <tr>\n",
       "      <th>...</th>\n",
       "      <td>...</td>\n",
       "      <td>...</td>\n",
       "    </tr>\n",
       "    <tr>\n",
       "      <th>297</th>\n",
       "      <td>MONROE</td>\n",
       "      <td>ENP (HIGHLAND BEAC</td>\n",
       "    </tr>\n",
       "    <tr>\n",
       "      <th>298</th>\n",
       "      <td>MONROE</td>\n",
       "      <td>ENP (HIGHLAND BEAC</td>\n",
       "    </tr>\n",
       "    <tr>\n",
       "      <th>299</th>\n",
       "      <td>MONROE</td>\n",
       "      <td>LITTLE CRAWL KEY</td>\n",
       "    </tr>\n",
       "    <tr>\n",
       "      <th>300</th>\n",
       "      <td>MONROE</td>\n",
       "      <td>FAT DEER KEY</td>\n",
       "    </tr>\n",
       "    <tr>\n",
       "      <th>301</th>\n",
       "      <td>DADE</td>\n",
       "      <td>BISCAYNE NATIONAL</td>\n",
       "    </tr>\n",
       "  </tbody>\n",
       "</table>\n",
       "<p>302 rows × 2 columns</p>\n",
       "</div>"
      ],
      "text/plain": [
       "       COUNTY                NAME\n",
       "0    ESCAMBIA          UNSURVEYED\n",
       "1       DUVAL          HANNA PARK\n",
       "2    ST JOHNS      GUANA RIVER SP\n",
       "3    ESCAMBIA          UNSURVEYED\n",
       "4      WALTON  WALTON COUNTY BCHS\n",
       "..        ...                 ...\n",
       "297    MONROE  ENP (HIGHLAND BEAC\n",
       "298    MONROE  ENP (HIGHLAND BEAC\n",
       "299    MONROE    LITTLE CRAWL KEY\n",
       "300    MONROE        FAT DEER KEY\n",
       "301      DADE   BISCAYNE NATIONAL\n",
       "\n",
       "[302 rows x 2 columns]"
      ]
     },
     "execution_count": 10,
     "metadata": {},
     "output_type": "execute_result"
    }
   ],
   "source": [
    "df"
   ]
  },
  {
   "cell_type": "code",
   "execution_count": 11,
   "metadata": {},
   "outputs": [],
   "source": [
    "df.dropna(inplace=True)"
   ]
  },
  {
   "cell_type": "code",
   "execution_count": 12,
   "metadata": {},
   "outputs": [
    {
     "name": "stdout",
     "output_type": "stream",
     "text": [
      "<class 'pandas.core.frame.DataFrame'>\n",
      "Index: 299 entries, 0 to 301\n",
      "Data columns (total 2 columns):\n",
      " #   Column  Non-Null Count  Dtype \n",
      "---  ------  --------------  ----- \n",
      " 0   COUNTY  299 non-null    object\n",
      " 1   NAME    299 non-null    object\n",
      "dtypes: object(2)\n",
      "memory usage: 7.0+ KB\n"
     ]
    }
   ],
   "source": [
    "df.info()"
   ]
  },
  {
   "cell_type": "markdown",
   "metadata": {},
   "source": [
    "Ok we dont have any nan rows in our data"
   ]
  },
  {
   "cell_type": "markdown",
   "metadata": {},
   "source": [
    "## Feature engineering"
   ]
  },
  {
   "cell_type": "markdown",
   "metadata": {},
   "source": [
    "Now based on our info of the beaches we are gonna find their approximate latitude and longitude"
   ]
  },
  {
   "cell_type": "code",
   "execution_count": 13,
   "metadata": {},
   "outputs": [],
   "source": [
    "df['latitude'] = None\n",
    "df['longitude'] = None"
   ]
  },
  {
   "cell_type": "markdown",
   "metadata": {},
   "source": [
    "We initialize the two empty columns holding the coordenates"
   ]
  },
  {
   "cell_type": "code",
   "execution_count": 14,
   "metadata": {},
   "outputs": [],
   "source": [
    "for index, row in df.iterrows():\n",
    "    county = row['COUNTY']\n",
    "    name = row['NAME']\n",
    "    coordinates = get_coordinates(county, name)\n",
    "    df.at[index, 'latitude'] = coordinates[0]\n",
    "    df.at[index, 'longitude'] = coordinates[1]\n"
   ]
  },
  {
   "cell_type": "code",
   "execution_count": 20,
   "metadata": {},
   "outputs": [
    {
     "data": {
      "text/html": [
       "<div>\n",
       "<style scoped>\n",
       "    .dataframe tbody tr th:only-of-type {\n",
       "        vertical-align: middle;\n",
       "    }\n",
       "\n",
       "    .dataframe tbody tr th {\n",
       "        vertical-align: top;\n",
       "    }\n",
       "\n",
       "    .dataframe thead th {\n",
       "        text-align: right;\n",
       "    }\n",
       "</style>\n",
       "<table border=\"1\" class=\"dataframe\">\n",
       "  <thead>\n",
       "    <tr style=\"text-align: right;\">\n",
       "      <th></th>\n",
       "      <th>COUNTY</th>\n",
       "      <th>NAME</th>\n",
       "      <th>latitude</th>\n",
       "      <th>longitude</th>\n",
       "    </tr>\n",
       "  </thead>\n",
       "  <tbody>\n",
       "    <tr>\n",
       "      <th>0</th>\n",
       "      <td>ESCAMBIA</td>\n",
       "      <td>UNSURVEYED</td>\n",
       "      <td>30.74408</td>\n",
       "      <td>-86.562079</td>\n",
       "    </tr>\n",
       "    <tr>\n",
       "      <th>1</th>\n",
       "      <td>DUVAL</td>\n",
       "      <td>HANNA PARK</td>\n",
       "      <td>30.370955</td>\n",
       "      <td>-81.402843</td>\n",
       "    </tr>\n",
       "    <tr>\n",
       "      <th>2</th>\n",
       "      <td>ST JOHNS</td>\n",
       "      <td>GUANA RIVER SP</td>\n",
       "      <td>29.91218</td>\n",
       "      <td>-81.40989</td>\n",
       "    </tr>\n",
       "    <tr>\n",
       "      <th>4</th>\n",
       "      <td>WALTON</td>\n",
       "      <td>WALTON COUNTY BCHS</td>\n",
       "      <td>26.677051</td>\n",
       "      <td>-80.052446</td>\n",
       "    </tr>\n",
       "    <tr>\n",
       "      <th>5</th>\n",
       "      <td>BAY</td>\n",
       "      <td>PANAMA CITY BCH</td>\n",
       "      <td>30.176591</td>\n",
       "      <td>-85.805386</td>\n",
       "    </tr>\n",
       "    <tr>\n",
       "      <th>...</th>\n",
       "      <td>...</td>\n",
       "      <td>...</td>\n",
       "      <td>...</td>\n",
       "      <td>...</td>\n",
       "    </tr>\n",
       "    <tr>\n",
       "      <th>293</th>\n",
       "      <td>COLLIER</td>\n",
       "      <td>KEEWAYDIN ISL</td>\n",
       "      <td>28.822134</td>\n",
       "      <td>-81.341684</td>\n",
       "    </tr>\n",
       "    <tr>\n",
       "      <th>295</th>\n",
       "      <td>DADE</td>\n",
       "      <td>GOLDEN BCH</td>\n",
       "      <td>25.965092</td>\n",
       "      <td>-80.122267</td>\n",
       "    </tr>\n",
       "    <tr>\n",
       "      <th>297</th>\n",
       "      <td>MONROE</td>\n",
       "      <td>ENP (HIGHLAND BEAC</td>\n",
       "      <td>25.55731</td>\n",
       "      <td>-80.91705</td>\n",
       "    </tr>\n",
       "    <tr>\n",
       "      <th>299</th>\n",
       "      <td>MONROE</td>\n",
       "      <td>LITTLE CRAWL KEY</td>\n",
       "      <td>24.742867</td>\n",
       "      <td>-80.983267</td>\n",
       "    </tr>\n",
       "    <tr>\n",
       "      <th>301</th>\n",
       "      <td>DADE</td>\n",
       "      <td>BISCAYNE NATIONAL</td>\n",
       "      <td>27.637003</td>\n",
       "      <td>-81.832431</td>\n",
       "    </tr>\n",
       "  </tbody>\n",
       "</table>\n",
       "<p>167 rows × 4 columns</p>\n",
       "</div>"
      ],
      "text/plain": [
       "       COUNTY                NAME   latitude  longitude\n",
       "0    ESCAMBIA          UNSURVEYED   30.74408 -86.562079\n",
       "1       DUVAL          HANNA PARK  30.370955 -81.402843\n",
       "2    ST JOHNS      GUANA RIVER SP   29.91218  -81.40989\n",
       "4      WALTON  WALTON COUNTY BCHS  26.677051 -80.052446\n",
       "5         BAY     PANAMA CITY BCH  30.176591 -85.805386\n",
       "..        ...                 ...        ...        ...\n",
       "293   COLLIER       KEEWAYDIN ISL  28.822134 -81.341684\n",
       "295      DADE          GOLDEN BCH  25.965092 -80.122267\n",
       "297    MONROE  ENP (HIGHLAND BEAC   25.55731  -80.91705\n",
       "299    MONROE    LITTLE CRAWL KEY  24.742867 -80.983267\n",
       "301      DADE   BISCAYNE NATIONAL  27.637003 -81.832431\n",
       "\n",
       "[167 rows x 4 columns]"
      ]
     },
     "execution_count": 20,
     "metadata": {},
     "output_type": "execute_result"
    }
   ],
   "source": [
    "df"
   ]
  },
  {
   "cell_type": "code",
   "execution_count": 24,
   "metadata": {},
   "outputs": [
    {
     "name": "stdout",
     "output_type": "stream",
     "text": [
      "<class 'pandas.core.frame.DataFrame'>\n",
      "Index: 167 entries, 0 to 301\n",
      "Data columns (total 4 columns):\n",
      " #   Column     Non-Null Count  Dtype \n",
      "---  ------     --------------  ----- \n",
      " 0   COUNTY     167 non-null    object\n",
      " 1   NAME       167 non-null    object\n",
      " 2   latitude   167 non-null    object\n",
      " 3   longitude  167 non-null    object\n",
      "dtypes: object(4)\n",
      "memory usage: 6.5+ KB\n"
     ]
    }
   ],
   "source": [
    "df.info()"
   ]
  },
  {
   "cell_type": "code",
   "execution_count": 22,
   "metadata": {},
   "outputs": [
    {
     "data": {
      "text/plain": [
       "0"
      ]
     },
     "execution_count": 22,
     "metadata": {},
     "output_type": "execute_result"
    }
   ],
   "source": [
    "df.duplicated().sum()"
   ]
  },
  {
   "cell_type": "markdown",
   "metadata": {},
   "source": [
    "I also noticed some beaches sharing the same name in the same county, so we are gonna drop those and keep just one for each county since it will create the same entries of location with our geolocator"
   ]
  },
  {
   "cell_type": "code",
   "execution_count": 23,
   "metadata": {},
   "outputs": [],
   "source": [
    "df.drop_duplicates(inplace=True)\n"
   ]
  },
  {
   "cell_type": "code",
   "execution_count": 27,
   "metadata": {},
   "outputs": [
    {
     "data": {
      "text/html": [
       "<div>\n",
       "<style scoped>\n",
       "    .dataframe tbody tr th:only-of-type {\n",
       "        vertical-align: middle;\n",
       "    }\n",
       "\n",
       "    .dataframe tbody tr th {\n",
       "        vertical-align: top;\n",
       "    }\n",
       "\n",
       "    .dataframe thead th {\n",
       "        text-align: right;\n",
       "    }\n",
       "</style>\n",
       "<table border=\"1\" class=\"dataframe\">\n",
       "  <thead>\n",
       "    <tr style=\"text-align: right;\">\n",
       "      <th></th>\n",
       "      <th>COUNTY</th>\n",
       "      <th>NAME</th>\n",
       "      <th>latitude</th>\n",
       "      <th>longitude</th>\n",
       "    </tr>\n",
       "  </thead>\n",
       "  <tbody>\n",
       "    <tr>\n",
       "      <th>0</th>\n",
       "      <td>ESCAMBIA</td>\n",
       "      <td>UNSURVEYED</td>\n",
       "      <td>30.74408</td>\n",
       "      <td>-86.562079</td>\n",
       "    </tr>\n",
       "    <tr>\n",
       "      <th>1</th>\n",
       "      <td>DUVAL</td>\n",
       "      <td>HANNA PARK</td>\n",
       "      <td>30.370955</td>\n",
       "      <td>-81.402843</td>\n",
       "    </tr>\n",
       "    <tr>\n",
       "      <th>2</th>\n",
       "      <td>ST JOHNS</td>\n",
       "      <td>GUANA RIVER SP</td>\n",
       "      <td>29.91218</td>\n",
       "      <td>-81.40989</td>\n",
       "    </tr>\n",
       "    <tr>\n",
       "      <th>4</th>\n",
       "      <td>WALTON</td>\n",
       "      <td>WALTON COUNTY BCHS</td>\n",
       "      <td>26.677051</td>\n",
       "      <td>-80.052446</td>\n",
       "    </tr>\n",
       "    <tr>\n",
       "      <th>5</th>\n",
       "      <td>BAY</td>\n",
       "      <td>PANAMA CITY BCH</td>\n",
       "      <td>30.176591</td>\n",
       "      <td>-85.805386</td>\n",
       "    </tr>\n",
       "    <tr>\n",
       "      <th>...</th>\n",
       "      <td>...</td>\n",
       "      <td>...</td>\n",
       "      <td>...</td>\n",
       "      <td>...</td>\n",
       "    </tr>\n",
       "    <tr>\n",
       "      <th>293</th>\n",
       "      <td>COLLIER</td>\n",
       "      <td>KEEWAYDIN ISL</td>\n",
       "      <td>28.822134</td>\n",
       "      <td>-81.341684</td>\n",
       "    </tr>\n",
       "    <tr>\n",
       "      <th>295</th>\n",
       "      <td>DADE</td>\n",
       "      <td>GOLDEN BCH</td>\n",
       "      <td>25.965092</td>\n",
       "      <td>-80.122267</td>\n",
       "    </tr>\n",
       "    <tr>\n",
       "      <th>297</th>\n",
       "      <td>MONROE</td>\n",
       "      <td>ENP (HIGHLAND BEAC</td>\n",
       "      <td>25.55731</td>\n",
       "      <td>-80.91705</td>\n",
       "    </tr>\n",
       "    <tr>\n",
       "      <th>299</th>\n",
       "      <td>MONROE</td>\n",
       "      <td>LITTLE CRAWL KEY</td>\n",
       "      <td>24.742867</td>\n",
       "      <td>-80.983267</td>\n",
       "    </tr>\n",
       "    <tr>\n",
       "      <th>301</th>\n",
       "      <td>DADE</td>\n",
       "      <td>BISCAYNE NATIONAL</td>\n",
       "      <td>27.637003</td>\n",
       "      <td>-81.832431</td>\n",
       "    </tr>\n",
       "  </tbody>\n",
       "</table>\n",
       "<p>167 rows × 4 columns</p>\n",
       "</div>"
      ],
      "text/plain": [
       "       COUNTY                NAME   latitude  longitude\n",
       "0    ESCAMBIA          UNSURVEYED   30.74408 -86.562079\n",
       "1       DUVAL          HANNA PARK  30.370955 -81.402843\n",
       "2    ST JOHNS      GUANA RIVER SP   29.91218  -81.40989\n",
       "4      WALTON  WALTON COUNTY BCHS  26.677051 -80.052446\n",
       "5         BAY     PANAMA CITY BCH  30.176591 -85.805386\n",
       "..        ...                 ...        ...        ...\n",
       "293   COLLIER       KEEWAYDIN ISL  28.822134 -81.341684\n",
       "295      DADE          GOLDEN BCH  25.965092 -80.122267\n",
       "297    MONROE  ENP (HIGHLAND BEAC   25.55731  -80.91705\n",
       "299    MONROE    LITTLE CRAWL KEY  24.742867 -80.983267\n",
       "301      DADE   BISCAYNE NATIONAL  27.637003 -81.832431\n",
       "\n",
       "[167 rows x 4 columns]"
      ]
     },
     "execution_count": 27,
     "metadata": {},
     "output_type": "execute_result"
    }
   ],
   "source": [
    "df"
   ]
  },
  {
   "cell_type": "code",
   "execution_count": 28,
   "metadata": {},
   "outputs": [],
   "source": [
    "filtered_df = df[df['NAME']!='UNSURVEYED']"
   ]
  },
  {
   "cell_type": "code",
   "execution_count": 29,
   "metadata": {},
   "outputs": [
    {
     "data": {
      "text/html": [
       "<div>\n",
       "<style scoped>\n",
       "    .dataframe tbody tr th:only-of-type {\n",
       "        vertical-align: middle;\n",
       "    }\n",
       "\n",
       "    .dataframe tbody tr th {\n",
       "        vertical-align: top;\n",
       "    }\n",
       "\n",
       "    .dataframe thead th {\n",
       "        text-align: right;\n",
       "    }\n",
       "</style>\n",
       "<table border=\"1\" class=\"dataframe\">\n",
       "  <thead>\n",
       "    <tr style=\"text-align: right;\">\n",
       "      <th></th>\n",
       "      <th>COUNTY</th>\n",
       "      <th>NAME</th>\n",
       "      <th>latitude</th>\n",
       "      <th>longitude</th>\n",
       "    </tr>\n",
       "  </thead>\n",
       "  <tbody>\n",
       "    <tr>\n",
       "      <th>1</th>\n",
       "      <td>DUVAL</td>\n",
       "      <td>HANNA PARK</td>\n",
       "      <td>30.370955</td>\n",
       "      <td>-81.402843</td>\n",
       "    </tr>\n",
       "    <tr>\n",
       "      <th>2</th>\n",
       "      <td>ST JOHNS</td>\n",
       "      <td>GUANA RIVER SP</td>\n",
       "      <td>29.91218</td>\n",
       "      <td>-81.40989</td>\n",
       "    </tr>\n",
       "    <tr>\n",
       "      <th>4</th>\n",
       "      <td>WALTON</td>\n",
       "      <td>WALTON COUNTY BCHS</td>\n",
       "      <td>26.677051</td>\n",
       "      <td>-80.052446</td>\n",
       "    </tr>\n",
       "    <tr>\n",
       "      <th>5</th>\n",
       "      <td>BAY</td>\n",
       "      <td>PANAMA CITY BCH</td>\n",
       "      <td>30.176591</td>\n",
       "      <td>-85.805386</td>\n",
       "    </tr>\n",
       "    <tr>\n",
       "      <th>6</th>\n",
       "      <td>ST JOHNS</td>\n",
       "      <td>ST AUG BCHS</td>\n",
       "      <td>29.91218</td>\n",
       "      <td>-81.40989</td>\n",
       "    </tr>\n",
       "    <tr>\n",
       "      <th>...</th>\n",
       "      <td>...</td>\n",
       "      <td>...</td>\n",
       "      <td>...</td>\n",
       "      <td>...</td>\n",
       "    </tr>\n",
       "    <tr>\n",
       "      <th>293</th>\n",
       "      <td>COLLIER</td>\n",
       "      <td>KEEWAYDIN ISL</td>\n",
       "      <td>28.822134</td>\n",
       "      <td>-81.341684</td>\n",
       "    </tr>\n",
       "    <tr>\n",
       "      <th>295</th>\n",
       "      <td>DADE</td>\n",
       "      <td>GOLDEN BCH</td>\n",
       "      <td>25.965092</td>\n",
       "      <td>-80.122267</td>\n",
       "    </tr>\n",
       "    <tr>\n",
       "      <th>297</th>\n",
       "      <td>MONROE</td>\n",
       "      <td>ENP (HIGHLAND BEAC</td>\n",
       "      <td>25.55731</td>\n",
       "      <td>-80.91705</td>\n",
       "    </tr>\n",
       "    <tr>\n",
       "      <th>299</th>\n",
       "      <td>MONROE</td>\n",
       "      <td>LITTLE CRAWL KEY</td>\n",
       "      <td>24.742867</td>\n",
       "      <td>-80.983267</td>\n",
       "    </tr>\n",
       "    <tr>\n",
       "      <th>301</th>\n",
       "      <td>DADE</td>\n",
       "      <td>BISCAYNE NATIONAL</td>\n",
       "      <td>27.637003</td>\n",
       "      <td>-81.832431</td>\n",
       "    </tr>\n",
       "  </tbody>\n",
       "</table>\n",
       "<p>159 rows × 4 columns</p>\n",
       "</div>"
      ],
      "text/plain": [
       "       COUNTY                NAME   latitude  longitude\n",
       "1       DUVAL          HANNA PARK  30.370955 -81.402843\n",
       "2    ST JOHNS      GUANA RIVER SP   29.91218  -81.40989\n",
       "4      WALTON  WALTON COUNTY BCHS  26.677051 -80.052446\n",
       "5         BAY     PANAMA CITY BCH  30.176591 -85.805386\n",
       "6    ST JOHNS         ST AUG BCHS   29.91218  -81.40989\n",
       "..        ...                 ...        ...        ...\n",
       "293   COLLIER       KEEWAYDIN ISL  28.822134 -81.341684\n",
       "295      DADE          GOLDEN BCH  25.965092 -80.122267\n",
       "297    MONROE  ENP (HIGHLAND BEAC   25.55731  -80.91705\n",
       "299    MONROE    LITTLE CRAWL KEY  24.742867 -80.983267\n",
       "301      DADE   BISCAYNE NATIONAL  27.637003 -81.832431\n",
       "\n",
       "[159 rows x 4 columns]"
      ]
     },
     "execution_count": 29,
     "metadata": {},
     "output_type": "execute_result"
    }
   ],
   "source": [
    "filtered_df"
   ]
  },
  {
   "cell_type": "code",
   "execution_count": 33,
   "metadata": {},
   "outputs": [
    {
     "data": {
      "text/html": [
       "<div>\n",
       "<style scoped>\n",
       "    .dataframe tbody tr th:only-of-type {\n",
       "        vertical-align: middle;\n",
       "    }\n",
       "\n",
       "    .dataframe tbody tr th {\n",
       "        vertical-align: top;\n",
       "    }\n",
       "\n",
       "    .dataframe thead th {\n",
       "        text-align: right;\n",
       "    }\n",
       "</style>\n",
       "<table border=\"1\" class=\"dataframe\">\n",
       "  <thead>\n",
       "    <tr style=\"text-align: right;\">\n",
       "      <th></th>\n",
       "      <th>COUNTY</th>\n",
       "      <th>NAME</th>\n",
       "      <th>latitude</th>\n",
       "      <th>longitude</th>\n",
       "    </tr>\n",
       "  </thead>\n",
       "  <tbody>\n",
       "    <tr>\n",
       "      <th>1</th>\n",
       "      <td>DUVAL</td>\n",
       "      <td>HANNA PARK</td>\n",
       "      <td>30.370955</td>\n",
       "      <td>-81.402843</td>\n",
       "    </tr>\n",
       "    <tr>\n",
       "      <th>2</th>\n",
       "      <td>ST JOHNS</td>\n",
       "      <td>GUANA RIVER SP</td>\n",
       "      <td>29.91218</td>\n",
       "      <td>-81.40989</td>\n",
       "    </tr>\n",
       "    <tr>\n",
       "      <th>4</th>\n",
       "      <td>WALTON</td>\n",
       "      <td>WALTON COUNTY BCHS</td>\n",
       "      <td>26.677051</td>\n",
       "      <td>-80.052446</td>\n",
       "    </tr>\n",
       "    <tr>\n",
       "      <th>5</th>\n",
       "      <td>BAY</td>\n",
       "      <td>PANAMA CITY BCH</td>\n",
       "      <td>30.176591</td>\n",
       "      <td>-85.805386</td>\n",
       "    </tr>\n",
       "    <tr>\n",
       "      <th>6</th>\n",
       "      <td>ST JOHNS</td>\n",
       "      <td>ST AUG BCHS</td>\n",
       "      <td>29.91218</td>\n",
       "      <td>-81.40989</td>\n",
       "    </tr>\n",
       "    <tr>\n",
       "      <th>...</th>\n",
       "      <td>...</td>\n",
       "      <td>...</td>\n",
       "      <td>...</td>\n",
       "      <td>...</td>\n",
       "    </tr>\n",
       "    <tr>\n",
       "      <th>293</th>\n",
       "      <td>COLLIER</td>\n",
       "      <td>KEEWAYDIN ISL</td>\n",
       "      <td>28.822134</td>\n",
       "      <td>-81.341684</td>\n",
       "    </tr>\n",
       "    <tr>\n",
       "      <th>295</th>\n",
       "      <td>DADE</td>\n",
       "      <td>GOLDEN BCH</td>\n",
       "      <td>25.965092</td>\n",
       "      <td>-80.122267</td>\n",
       "    </tr>\n",
       "    <tr>\n",
       "      <th>297</th>\n",
       "      <td>MONROE</td>\n",
       "      <td>ENP (HIGHLAND BEAC</td>\n",
       "      <td>25.55731</td>\n",
       "      <td>-80.91705</td>\n",
       "    </tr>\n",
       "    <tr>\n",
       "      <th>299</th>\n",
       "      <td>MONROE</td>\n",
       "      <td>LITTLE CRAWL KEY</td>\n",
       "      <td>24.742867</td>\n",
       "      <td>-80.983267</td>\n",
       "    </tr>\n",
       "    <tr>\n",
       "      <th>301</th>\n",
       "      <td>DADE</td>\n",
       "      <td>BISCAYNE NATIONAL</td>\n",
       "      <td>27.637003</td>\n",
       "      <td>-81.832431</td>\n",
       "    </tr>\n",
       "  </tbody>\n",
       "</table>\n",
       "<p>159 rows × 4 columns</p>\n",
       "</div>"
      ],
      "text/plain": [
       "       COUNTY                NAME   latitude  longitude\n",
       "1       DUVAL          HANNA PARK  30.370955 -81.402843\n",
       "2    ST JOHNS      GUANA RIVER SP   29.91218  -81.40989\n",
       "4      WALTON  WALTON COUNTY BCHS  26.677051 -80.052446\n",
       "5         BAY     PANAMA CITY BCH  30.176591 -85.805386\n",
       "6    ST JOHNS         ST AUG BCHS   29.91218  -81.40989\n",
       "..        ...                 ...        ...        ...\n",
       "293   COLLIER       KEEWAYDIN ISL  28.822134 -81.341684\n",
       "295      DADE          GOLDEN BCH  25.965092 -80.122267\n",
       "297    MONROE  ENP (HIGHLAND BEAC   25.55731  -80.91705\n",
       "299    MONROE    LITTLE CRAWL KEY  24.742867 -80.983267\n",
       "301      DADE   BISCAYNE NATIONAL  27.637003 -81.832431\n",
       "\n",
       "[159 rows x 4 columns]"
      ]
     },
     "execution_count": 33,
     "metadata": {},
     "output_type": "execute_result"
    }
   ],
   "source": [
    "filtered_df"
   ]
  },
  {
   "cell_type": "code",
   "execution_count": 35,
   "metadata": {},
   "outputs": [
    {
     "data": {
      "text/plain": [
       "array(['DUVAL', 'ST JOHNS', 'WALTON', 'BAY', 'FLAGLER', 'GULF', 'VOLUSIA',\n",
       "       'BREVARD', 'INDIAN RIVER', 'PINELLAS', 'SARASOTA', 'PALM BEACH',\n",
       "       'LEE', 'COLLIER', 'DADE', 'MONROE', 'OKALOOSA', 'ESCAMBIA',\n",
       "       'NASSAU', 'BROWARD', 'FRANKLIN', 'HILLSBOROUGH', 'ST LUCIE',\n",
       "       'MANATEE', 'MARTIN', 'CHARLOTTE', 'BOWARD', 'SARASOAT'],\n",
       "      dtype=object)"
      ]
     },
     "execution_count": 35,
     "metadata": {},
     "output_type": "execute_result"
    }
   ],
   "source": [
    "filtered_df['COUNTY'].unique()"
   ]
  },
  {
   "cell_type": "markdown",
   "metadata": {},
   "source": [
    "Can notice how maybe some counties are repeated, SARASOTA and SARASOAT"
   ]
  },
  {
   "cell_type": "code",
   "execution_count": 36,
   "metadata": {},
   "outputs": [
    {
     "data": {
      "text/html": [
       "<div>\n",
       "<style scoped>\n",
       "    .dataframe tbody tr th:only-of-type {\n",
       "        vertical-align: middle;\n",
       "    }\n",
       "\n",
       "    .dataframe tbody tr th {\n",
       "        vertical-align: top;\n",
       "    }\n",
       "\n",
       "    .dataframe thead th {\n",
       "        text-align: right;\n",
       "    }\n",
       "</style>\n",
       "<table border=\"1\" class=\"dataframe\">\n",
       "  <thead>\n",
       "    <tr style=\"text-align: right;\">\n",
       "      <th></th>\n",
       "      <th>COUNTY</th>\n",
       "      <th>NAME</th>\n",
       "      <th>latitude</th>\n",
       "      <th>longitude</th>\n",
       "    </tr>\n",
       "  </thead>\n",
       "  <tbody>\n",
       "    <tr>\n",
       "      <th>16</th>\n",
       "      <td>SARASOTA</td>\n",
       "      <td>CASEY KEY</td>\n",
       "      <td>27.150053</td>\n",
       "      <td>-82.480653</td>\n",
       "    </tr>\n",
       "    <tr>\n",
       "      <th>155</th>\n",
       "      <td>SARASOTA</td>\n",
       "      <td>VENICE BCHS</td>\n",
       "      <td>27.283566</td>\n",
       "      <td>-82.558122</td>\n",
       "    </tr>\n",
       "    <tr>\n",
       "      <th>156</th>\n",
       "      <td>SARASOTA</td>\n",
       "      <td>LONGBOAT KEY S</td>\n",
       "      <td>27.36055</td>\n",
       "      <td>-82.618135</td>\n",
       "    </tr>\n",
       "    <tr>\n",
       "      <th>168</th>\n",
       "      <td>SARASOTA</td>\n",
       "      <td>LIDO KEY</td>\n",
       "      <td>27.316991</td>\n",
       "      <td>-82.581487</td>\n",
       "    </tr>\n",
       "    <tr>\n",
       "      <th>169</th>\n",
       "      <td>SARASOTA</td>\n",
       "      <td>SIESTA KEY</td>\n",
       "      <td>27.275596</td>\n",
       "      <td>-82.556163</td>\n",
       "    </tr>\n",
       "    <tr>\n",
       "      <th>284</th>\n",
       "      <td>SARASOTA</td>\n",
       "      <td>MANASOTA KEY</td>\n",
       "      <td>26.984782</td>\n",
       "      <td>-82.398429</td>\n",
       "    </tr>\n",
       "  </tbody>\n",
       "</table>\n",
       "</div>"
      ],
      "text/plain": [
       "       COUNTY            NAME   latitude  longitude\n",
       "16   SARASOTA       CASEY KEY  27.150053 -82.480653\n",
       "155  SARASOTA     VENICE BCHS  27.283566 -82.558122\n",
       "156  SARASOTA  LONGBOAT KEY S   27.36055 -82.618135\n",
       "168  SARASOTA        LIDO KEY  27.316991 -82.581487\n",
       "169  SARASOTA      SIESTA KEY  27.275596 -82.556163\n",
       "284  SARASOTA    MANASOTA KEY  26.984782 -82.398429"
      ]
     },
     "execution_count": 36,
     "metadata": {},
     "output_type": "execute_result"
    }
   ],
   "source": [
    "filtered_df[filtered_df['COUNTY'] == 'SARASOTA']"
   ]
  },
  {
   "cell_type": "code",
   "execution_count": 37,
   "metadata": {},
   "outputs": [
    {
     "data": {
      "text/html": [
       "<div>\n",
       "<style scoped>\n",
       "    .dataframe tbody tr th:only-of-type {\n",
       "        vertical-align: middle;\n",
       "    }\n",
       "\n",
       "    .dataframe tbody tr th {\n",
       "        vertical-align: top;\n",
       "    }\n",
       "\n",
       "    .dataframe thead th {\n",
       "        text-align: right;\n",
       "    }\n",
       "</style>\n",
       "<table border=\"1\" class=\"dataframe\">\n",
       "  <thead>\n",
       "    <tr style=\"text-align: right;\">\n",
       "      <th></th>\n",
       "      <th>COUNTY</th>\n",
       "      <th>NAME</th>\n",
       "      <th>latitude</th>\n",
       "      <th>longitude</th>\n",
       "    </tr>\n",
       "  </thead>\n",
       "  <tbody>\n",
       "    <tr>\n",
       "      <th>282</th>\n",
       "      <td>SARASOAT</td>\n",
       "      <td>MANASOTA KEY</td>\n",
       "      <td>27.339802</td>\n",
       "      <td>-82.547837</td>\n",
       "    </tr>\n",
       "  </tbody>\n",
       "</table>\n",
       "</div>"
      ],
      "text/plain": [
       "       COUNTY          NAME   latitude  longitude\n",
       "282  SARASOAT  MANASOTA KEY  27.339802 -82.547837"
      ]
     },
     "execution_count": 37,
     "metadata": {},
     "output_type": "execute_result"
    }
   ],
   "source": [
    "filtered_df[filtered_df['COUNTY']=='SARASOAT']"
   ]
  },
  {
   "cell_type": "code",
   "execution_count": 38,
   "metadata": {},
   "outputs": [],
   "source": [
    "filtered_df = filtered_df[filtered_df['COUNTY']!= 'SARASOAT']"
   ]
  },
  {
   "cell_type": "markdown",
   "metadata": {},
   "source": [
    "Seems to be a misspelling so gonna get rid of that line since is already in the other data"
   ]
  },
  {
   "cell_type": "code",
   "execution_count": 40,
   "metadata": {},
   "outputs": [],
   "source": [
    "filtered_df.to_csv('updated_beaches.csv', index=False)\n"
   ]
  },
  {
   "cell_type": "markdown",
   "metadata": {},
   "source": [
    "We save the data so it can be used later in the script without going thru all this changes again"
   ]
  },
  {
   "cell_type": "markdown",
   "metadata": {},
   "source": [
    "# Model"
   ]
  },
  {
   "cell_type": "code",
   "execution_count": 54,
   "metadata": {},
   "outputs": [],
   "source": [
    "starting_location = get_coordinates('1200 Anastasia Ave', 'Coral Gables')"
   ]
  },
  {
   "cell_type": "markdown",
   "metadata": {},
   "source": [
    "Test location. Soon to be filled with the txt value."
   ]
  },
  {
   "cell_type": "code",
   "execution_count": 62,
   "metadata": {},
   "outputs": [],
   "source": [
    "starting_location_list = ['Coral Gables', 'Starting Location', starting_location[0], starting_location[1]]"
   ]
  },
  {
   "cell_type": "code",
   "execution_count": 63,
   "metadata": {},
   "outputs": [],
   "source": [
    "df.loc[len(df.index)] = starting_location_list"
   ]
  },
  {
   "cell_type": "code",
   "execution_count": 64,
   "metadata": {},
   "outputs": [
    {
     "data": {
      "text/html": [
       "<div>\n",
       "<style scoped>\n",
       "    .dataframe tbody tr th:only-of-type {\n",
       "        vertical-align: middle;\n",
       "    }\n",
       "\n",
       "    .dataframe tbody tr th {\n",
       "        vertical-align: top;\n",
       "    }\n",
       "\n",
       "    .dataframe thead th {\n",
       "        text-align: right;\n",
       "    }\n",
       "</style>\n",
       "<table border=\"1\" class=\"dataframe\">\n",
       "  <thead>\n",
       "    <tr style=\"text-align: right;\">\n",
       "      <th></th>\n",
       "      <th>COUNTY</th>\n",
       "      <th>NAME</th>\n",
       "      <th>latitude</th>\n",
       "      <th>longitude</th>\n",
       "    </tr>\n",
       "  </thead>\n",
       "  <tbody>\n",
       "    <tr>\n",
       "      <th>0</th>\n",
       "      <td>ESCAMBIA</td>\n",
       "      <td>UNSURVEYED</td>\n",
       "      <td>30.74408</td>\n",
       "      <td>-86.562079</td>\n",
       "    </tr>\n",
       "    <tr>\n",
       "      <th>1</th>\n",
       "      <td>DUVAL</td>\n",
       "      <td>HANNA PARK</td>\n",
       "      <td>30.370955</td>\n",
       "      <td>-81.402843</td>\n",
       "    </tr>\n",
       "    <tr>\n",
       "      <th>2</th>\n",
       "      <td>ST JOHNS</td>\n",
       "      <td>GUANA RIVER SP</td>\n",
       "      <td>29.91218</td>\n",
       "      <td>-81.40989</td>\n",
       "    </tr>\n",
       "    <tr>\n",
       "      <th>3</th>\n",
       "      <td>WALTON</td>\n",
       "      <td>WALTON COUNTY BCHS</td>\n",
       "      <td>26.677051</td>\n",
       "      <td>-80.052446</td>\n",
       "    </tr>\n",
       "    <tr>\n",
       "      <th>4</th>\n",
       "      <td>BAY</td>\n",
       "      <td>PANAMA CITY BCH</td>\n",
       "      <td>30.176591</td>\n",
       "      <td>-85.805386</td>\n",
       "    </tr>\n",
       "    <tr>\n",
       "      <th>...</th>\n",
       "      <td>...</td>\n",
       "      <td>...</td>\n",
       "      <td>...</td>\n",
       "      <td>...</td>\n",
       "    </tr>\n",
       "    <tr>\n",
       "      <th>332</th>\n",
       "      <td>DADE</td>\n",
       "      <td>Starting Location</td>\n",
       "      <td>25.765417</td>\n",
       "      <td>-80.221558</td>\n",
       "    </tr>\n",
       "    <tr>\n",
       "      <th>333</th>\n",
       "      <td>DADE</td>\n",
       "      <td>Starting Location</td>\n",
       "      <td>25.765417</td>\n",
       "      <td>-80.221558</td>\n",
       "    </tr>\n",
       "    <tr>\n",
       "      <th>334</th>\n",
       "      <td>DADE</td>\n",
       "      <td>Starting Location</td>\n",
       "      <td>25.765417</td>\n",
       "      <td>-80.221558</td>\n",
       "    </tr>\n",
       "    <tr>\n",
       "      <th>335</th>\n",
       "      <td>Coral Gables</td>\n",
       "      <td>Starting Location</td>\n",
       "      <td>25.73311</td>\n",
       "      <td>-80.258511</td>\n",
       "    </tr>\n",
       "    <tr>\n",
       "      <th>336</th>\n",
       "      <td>Coral Gables</td>\n",
       "      <td>Starting Location</td>\n",
       "      <td>25.73311</td>\n",
       "      <td>-80.258511</td>\n",
       "    </tr>\n",
       "  </tbody>\n",
       "</table>\n",
       "<p>337 rows × 4 columns</p>\n",
       "</div>"
      ],
      "text/plain": [
       "           COUNTY                NAME   latitude  longitude\n",
       "0        ESCAMBIA          UNSURVEYED   30.74408 -86.562079\n",
       "1           DUVAL          HANNA PARK  30.370955 -81.402843\n",
       "2        ST JOHNS      GUANA RIVER SP   29.91218  -81.40989\n",
       "3          WALTON  WALTON COUNTY BCHS  26.677051 -80.052446\n",
       "4             BAY     PANAMA CITY BCH  30.176591 -85.805386\n",
       "..            ...                 ...        ...        ...\n",
       "332          DADE   Starting Location  25.765417 -80.221558\n",
       "333          DADE   Starting Location  25.765417 -80.221558\n",
       "334          DADE   Starting Location  25.765417 -80.221558\n",
       "335  Coral Gables   Starting Location   25.73311 -80.258511\n",
       "336  Coral Gables   Starting Location   25.73311 -80.258511\n",
       "\n",
       "[337 rows x 4 columns]"
      ]
     },
     "execution_count": 64,
     "metadata": {},
     "output_type": "execute_result"
    }
   ],
   "source": [
    "df"
   ]
  },
  {
   "cell_type": "code",
   "execution_count": 34,
   "metadata": {},
   "outputs": [
    {
     "ename": "AttributeError",
     "evalue": "'DataFrame' object has no attribute 'append'",
     "output_type": "error",
     "traceback": [
      "\u001b[1;31m---------------------------------------------------------------------------\u001b[0m",
      "\u001b[1;31mAttributeError\u001b[0m                            Traceback (most recent call last)",
      "\u001b[1;32m~\\AppData\\Local\\Temp\\ipykernel_7036\\2473752021.py\u001b[0m in \u001b[0;36m?\u001b[1;34m()\u001b[0m\n\u001b[1;32m----> 1\u001b[1;33m \u001b[0mbeaches_df\u001b[0m \u001b[1;33m=\u001b[0m \u001b[0mfiltered_df\u001b[0m\u001b[1;33m.\u001b[0m\u001b[0mappend\u001b[0m\u001b[1;33m(\u001b[0m\u001b[0mstarting_location\u001b[0m\u001b[1;33m,\u001b[0m \u001b[0mignore_index\u001b[0m\u001b[1;33m=\u001b[0m\u001b[1;32mTrue\u001b[0m\u001b[1;33m)\u001b[0m\u001b[1;33m\u001b[0m\u001b[1;33m\u001b[0m\u001b[0m\n\u001b[0m",
      "\u001b[1;32mc:\\Users\\Tirso\\AppData\\Local\\Programs\\Python\\Python311\\Lib\\site-packages\\pandas\\core\\generic.py\u001b[0m in \u001b[0;36m?\u001b[1;34m(self, name)\u001b[0m\n\u001b[0;32m   6292\u001b[0m             \u001b[1;32mand\u001b[0m \u001b[0mname\u001b[0m \u001b[1;32mnot\u001b[0m \u001b[1;32min\u001b[0m \u001b[0mself\u001b[0m\u001b[1;33m.\u001b[0m\u001b[0m_accessors\u001b[0m\u001b[1;33m\u001b[0m\u001b[1;33m\u001b[0m\u001b[0m\n\u001b[0;32m   6293\u001b[0m             \u001b[1;32mand\u001b[0m \u001b[0mself\u001b[0m\u001b[1;33m.\u001b[0m\u001b[0m_info_axis\u001b[0m\u001b[1;33m.\u001b[0m\u001b[0m_can_hold_identifiers_and_holds_name\u001b[0m\u001b[1;33m(\u001b[0m\u001b[0mname\u001b[0m\u001b[1;33m)\u001b[0m\u001b[1;33m\u001b[0m\u001b[1;33m\u001b[0m\u001b[0m\n\u001b[0;32m   6294\u001b[0m         ):\n\u001b[0;32m   6295\u001b[0m             \u001b[1;32mreturn\u001b[0m \u001b[0mself\u001b[0m\u001b[1;33m[\u001b[0m\u001b[0mname\u001b[0m\u001b[1;33m]\u001b[0m\u001b[1;33m\u001b[0m\u001b[1;33m\u001b[0m\u001b[0m\n\u001b[1;32m-> 6296\u001b[1;33m         \u001b[1;32mreturn\u001b[0m \u001b[0mobject\u001b[0m\u001b[1;33m.\u001b[0m\u001b[0m__getattribute__\u001b[0m\u001b[1;33m(\u001b[0m\u001b[0mself\u001b[0m\u001b[1;33m,\u001b[0m \u001b[0mname\u001b[0m\u001b[1;33m)\u001b[0m\u001b[1;33m\u001b[0m\u001b[1;33m\u001b[0m\u001b[0m\n\u001b[0m",
      "\u001b[1;31mAttributeError\u001b[0m: 'DataFrame' object has no attribute 'append'"
     ]
    }
   ],
   "source": [
    "beaches_df = filtered_df.append(starting_location, ignore_index=True)"
   ]
  },
  {
   "cell_type": "code",
   "execution_count": null,
   "metadata": {},
   "outputs": [],
   "source": [
    "import numpy as np\n",
    "\n",
    "def manhattan_distance(lat1, lon1, lat2, lon2):\n",
    "    return abs(lat2 - lat1) + abs(lon2 - lon1)\n",
    "\n",
    "# Calculate the distance matrix\n",
    "n = len(beaches_df)\n",
    "dist_matrix = np.zeros((n, n))\n",
    "\n",
    "for i in range(n):\n",
    "    for j in range(n):\n",
    "        if i != j:\n",
    "            dist_matrix[i, j] = manhattan_distance(beaches_df.loc[i, 'latitude'], beaches_df.loc[i, 'longitude'],\n",
    "                                                   beaches_df.loc[j, 'latitude'], beaches_df.loc[j, 'longitude'])\n"
   ]
  }
 ],
 "metadata": {
  "kernelspec": {
   "display_name": "Python 3",
   "language": "python",
   "name": "python3"
  },
  "language_info": {
   "codemirror_mode": {
    "name": "ipython",
    "version": 3
   },
   "file_extension": ".py",
   "mimetype": "text/x-python",
   "name": "python",
   "nbconvert_exporter": "python",
   "pygments_lexer": "ipython3",
   "version": "3.11.4"
  }
 },
 "nbformat": 4,
 "nbformat_minor": 2
}
